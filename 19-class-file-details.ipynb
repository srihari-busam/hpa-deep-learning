{
 "cells": [
  {
   "cell_type": "code",
   "execution_count": 1,
   "id": "comparable-encoding",
   "metadata": {},
   "outputs": [],
   "source": [
    "import pandas as pd\n",
    "import numpy as np\n",
    "\n",
    "import glob\n",
    "from shutil import copyfile"
   ]
  },
  {
   "cell_type": "code",
   "execution_count": 2,
   "id": "southwest-start",
   "metadata": {},
   "outputs": [],
   "source": [
    "label_to_name = {\n",
    "    0: \"Nucleoplasm\",\n",
    "    1: \"Nuclear membrane\",\n",
    "    2: \"Nucleoli\",\n",
    "    3: \"Nucleoli fibrillar center\",\n",
    "    4: \"Nuclear speckles\",\n",
    "    5: \"Nuclear bodies\",\n",
    "    6: \"Endoplasmic reticulum\",\n",
    "    7: \"Golgi apparatus\",\n",
    "    8: \"Intermediate filaments\",\n",
    "    9: \"Actin filaments\",\n",
    "    10: \"Microtubules\",\n",
    "    11: \"Mitotic spindle\",\n",
    "    12: \"Centrosome\",\n",
    "    13: \"Plasma membrane\",\n",
    "    14: \"Mitochondria\",\n",
    "    15: \"Aggresome\",\n",
    "    16: \"Cytosol\",\n",
    "    17: \"Vesicles and punctate cytosolic patterns\",\n",
    "    18: \"Negative\"\n",
    "}\n",
    "\n",
    "name_label = {\n",
    "     \"Nucleoplasm\":0,\n",
    "    \"Nuclear membrane\":1,\n",
    "    \"Nucleoli\":2,\n",
    "    \"Nucleoli fibrillar center\":3,\n",
    "    \"Nuclear speckles\":4,\n",
    "    \"Nuclear bodies\":5,\n",
    "    \"Endoplasmic reticulum\":6,\n",
    "    \"Golgi apparatus\":7,\n",
    "    \"Intermediate filaments\":8,\n",
    "    \"Actin filaments\":9,\n",
    "    \"Microtubules\":10,\n",
    "    \"Mitotic spindle\":11,\n",
    "    \"Centrosome\":12,\n",
    "    \"Plasma membrane\":13,\n",
    "    \"Mitochondria\":14,\n",
    "    \"Aggresome\":15,\n",
    "    \"Cytosol\":16,\n",
    "    \"Vesicles and punctate cytosolic patterns\":17,\n",
    "    \"Negative\":18\n",
    "}"
   ]
  },
  {
   "cell_type": "markdown",
   "id": "basic-briefing",
   "metadata": {},
   "source": [
    "## Create folder structure based on cell types"
   ]
  },
  {
   "cell_type": "code",
   "execution_count": 12,
   "id": "structural-local",
   "metadata": {},
   "outputs": [],
   "source": [
    "from pathlib import Path\n",
    "root = 'data/flow-new/'\n",
    "for key in name_label.keys():\n",
    "    Path(f\"{root}/{key}\").mkdir(parents=True, exist_ok=True)\n",
    "from shutil import copyfile"
   ]
  },
  {
   "cell_type": "markdown",
   "id": "willing-implement",
   "metadata": {},
   "source": [
    "## Build filname and labels"
   ]
  },
  {
   "cell_type": "code",
   "execution_count": 4,
   "id": "tracked-hamburg",
   "metadata": {},
   "outputs": [
    {
     "name": "stdout",
     "output_type": "stream",
     "text": [
      "243156\n",
      "243156\n"
     ]
    }
   ],
   "source": [
    "files = glob.glob(f\"data/single-class-individual-images/*.png\")\n",
    "data = { \"name\":[], \"label\":[]}\n",
    "for file_name in files:\n",
    "    first_level = file_name.split(sep=\"\\\\\")\n",
    "    name = first_level[1]\n",
    "    tokens = first_level[1].split(sep=\"_\")\n",
    "    data[\"name\"].append(name)\n",
    "    data[\"label\"].append(tokens[1])\n",
    "\n",
    "print(len(data[\"name\"]))\n",
    "print(len(data[\"label\"]))"
   ]
  },
  {
   "cell_type": "markdown",
   "id": "pediatric-trash",
   "metadata": {},
   "source": [
    "## Split and store the train and validation images in the right folders"
   ]
  },
  {
   "cell_type": "code",
   "execution_count": 7,
   "id": "thousand-employment",
   "metadata": {},
   "outputs": [],
   "source": [
    "from sklearn.model_selection import train_test_split"
   ]
  },
  {
   "cell_type": "code",
   "execution_count": 8,
   "id": "significant-disposition",
   "metadata": {},
   "outputs": [],
   "source": [
    "df = pd.DataFrame(data)"
   ]
  },
  {
   "cell_type": "code",
   "execution_count": 9,
   "id": "featured-repeat",
   "metadata": {},
   "outputs": [],
   "source": [
    "X = []\n",
    "y =[]\n",
    "\n",
    "for index, row in df.iterrows():\n",
    "    X.append(row['name'])\n",
    "    y.append(row[\"label\"])"
   ]
  },
  {
   "cell_type": "code",
   "execution_count": 10,
   "id": "primary-reproduction",
   "metadata": {},
   "outputs": [],
   "source": [
    "X_train, X_remaining, y_train, y_remaining = train_test_split(X, y, test_size=0.20, random_state=54321, shuffle=True, stratify=y)"
   ]
  },
  {
   "cell_type": "code",
   "execution_count": 11,
   "id": "crazy-panic",
   "metadata": {},
   "outputs": [],
   "source": [
    "src = 'data/single-class-individual-images/'\n",
    "dest = 'data/flow/train/'\n",
    "for index in range(len(X_train)):\n",
    "    copyfile(f'{src}{X_train[index]}', f'{dest}{y_train[index]}/{X_train[index]}')"
   ]
  },
  {
   "cell_type": "code",
   "execution_count": 12,
   "id": "enhanced-western",
   "metadata": {},
   "outputs": [],
   "source": [
    "src = 'data/single-class-individual-images/'\n",
    "dest = 'data/flow/validation/'\n",
    "for index in range(len(X_remaining)):\n",
    "    copyfile(f'{src}{X_remaining[index]}', f'{dest}{y_remaining[index]}/{X_remaining[index]}')"
   ]
  },
  {
   "cell_type": "markdown",
   "id": "young-month",
   "metadata": {},
   "source": [
    "## File Sample details"
   ]
  },
  {
   "cell_type": "code",
   "execution_count": 3,
   "id": "bizarre-tamil",
   "metadata": {},
   "outputs": [],
   "source": [
    "import os, os.path"
   ]
  },
  {
   "cell_type": "code",
   "execution_count": 9,
   "id": "helpful-travel",
   "metadata": {},
   "outputs": [
    {
     "data": {
      "text/plain": [
       "['Actin filaments',\n",
       " 'Aggresome',\n",
       " 'Centrosome',\n",
       " 'Cytosol',\n",
       " 'Endoplasmic reticulum',\n",
       " 'Golgi apparatus',\n",
       " 'Intermediate filaments',\n",
       " 'Microtubules',\n",
       " 'Mitochondria',\n",
       " 'Mitotic spindle',\n",
       " 'Negative',\n",
       " 'Nuclear bodies',\n",
       " 'Nuclear membrane',\n",
       " 'Nuclear speckles',\n",
       " 'Nucleoli',\n",
       " 'Nucleoli fibrillar center',\n",
       " 'Nucleoplasm',\n",
       " 'Plasma membrane',\n",
       " 'Vesicles and punctate cytosolic patterns']"
      ]
     },
     "execution_count": 9,
     "metadata": {},
     "output_type": "execute_result"
    }
   ],
   "source": [
    "path, dirs, files = next(os.walk('data/flow/train/'))\n",
    "dirs"
   ]
  },
  {
   "cell_type": "code",
   "execution_count": 10,
   "id": "moral-springfield",
   "metadata": {},
   "outputs": [],
   "source": [
    "train_files_count = []\n",
    "for sub_dir in dirs:\n",
    "    p, d, f = next(os.walk(f'data/flow/train/{sub_dir}/'))\n",
    "    train_files_count.append(len(f))"
   ]
  },
  {
   "cell_type": "code",
   "execution_count": 11,
   "id": "normal-cologne",
   "metadata": {},
   "outputs": [],
   "source": [
    "validation_files_count = []\n",
    "for sub_dir in dirs:\n",
    "    p, d, f = next(os.walk(f'data/flow/validation/{sub_dir}/'))\n",
    "    validation_files_count.append(len(f))"
   ]
  },
  {
   "cell_type": "code",
   "execution_count": 16,
   "id": "agricultural-patent",
   "metadata": {},
   "outputs": [
    {
     "data": {
      "text/html": [
       "<div>\n",
       "<style scoped>\n",
       "    .dataframe tbody tr th:only-of-type {\n",
       "        vertical-align: middle;\n",
       "    }\n",
       "\n",
       "    .dataframe tbody tr th {\n",
       "        vertical-align: top;\n",
       "    }\n",
       "\n",
       "    .dataframe thead th {\n",
       "        text-align: right;\n",
       "    }\n",
       "</style>\n",
       "<table border=\"1\" class=\"dataframe\">\n",
       "  <thead>\n",
       "    <tr style=\"text-align: right;\">\n",
       "      <th></th>\n",
       "      <th>Cell_Type</th>\n",
       "      <th>Train_SampleCount</th>\n",
       "      <th>Validation_Sample_Count</th>\n",
       "    </tr>\n",
       "  </thead>\n",
       "  <tbody>\n",
       "    <tr>\n",
       "      <th>0</th>\n",
       "      <td>Actin filaments</td>\n",
       "      <td>4196</td>\n",
       "      <td>1049</td>\n",
       "    </tr>\n",
       "    <tr>\n",
       "      <th>1</th>\n",
       "      <td>Aggresome</td>\n",
       "      <td>1696</td>\n",
       "      <td>424</td>\n",
       "    </tr>\n",
       "    <tr>\n",
       "      <th>2</th>\n",
       "      <td>Centrosome</td>\n",
       "      <td>10921</td>\n",
       "      <td>2730</td>\n",
       "    </tr>\n",
       "    <tr>\n",
       "      <th>3</th>\n",
       "      <td>Cytosol</td>\n",
       "      <td>17973</td>\n",
       "      <td>4493</td>\n",
       "    </tr>\n",
       "    <tr>\n",
       "      <th>4</th>\n",
       "      <td>Endoplasmic reticulum</td>\n",
       "      <td>8103</td>\n",
       "      <td>2026</td>\n",
       "    </tr>\n",
       "    <tr>\n",
       "      <th>5</th>\n",
       "      <td>Golgi apparatus</td>\n",
       "      <td>14757</td>\n",
       "      <td>3689</td>\n",
       "    </tr>\n",
       "    <tr>\n",
       "      <th>6</th>\n",
       "      <td>Intermediate filaments</td>\n",
       "      <td>8481</td>\n",
       "      <td>2120</td>\n",
       "    </tr>\n",
       "    <tr>\n",
       "      <th>7</th>\n",
       "      <td>Microtubules</td>\n",
       "      <td>6205</td>\n",
       "      <td>1551</td>\n",
       "    </tr>\n",
       "    <tr>\n",
       "      <th>8</th>\n",
       "      <td>Mitochondria</td>\n",
       "      <td>21623</td>\n",
       "      <td>5406</td>\n",
       "    </tr>\n",
       "    <tr>\n",
       "      <th>9</th>\n",
       "      <td>Mitotic spindle</td>\n",
       "      <td>8</td>\n",
       "      <td>2</td>\n",
       "    </tr>\n",
       "    <tr>\n",
       "      <th>10</th>\n",
       "      <td>Negative</td>\n",
       "      <td>747</td>\n",
       "      <td>187</td>\n",
       "    </tr>\n",
       "    <tr>\n",
       "      <th>11</th>\n",
       "      <td>Nuclear bodies</td>\n",
       "      <td>11977</td>\n",
       "      <td>2994</td>\n",
       "    </tr>\n",
       "    <tr>\n",
       "      <th>12</th>\n",
       "      <td>Nuclear membrane</td>\n",
       "      <td>3839</td>\n",
       "      <td>960</td>\n",
       "    </tr>\n",
       "    <tr>\n",
       "      <th>13</th>\n",
       "      <td>Nuclear speckles</td>\n",
       "      <td>13786</td>\n",
       "      <td>3447</td>\n",
       "    </tr>\n",
       "    <tr>\n",
       "      <th>14</th>\n",
       "      <td>Nucleoli</td>\n",
       "      <td>9788</td>\n",
       "      <td>2447</td>\n",
       "    </tr>\n",
       "    <tr>\n",
       "      <th>15</th>\n",
       "      <td>Nucleoli fibrillar center</td>\n",
       "      <td>9757</td>\n",
       "      <td>2440</td>\n",
       "    </tr>\n",
       "    <tr>\n",
       "      <th>16</th>\n",
       "      <td>Nucleoplasm</td>\n",
       "      <td>29593</td>\n",
       "      <td>7398</td>\n",
       "    </tr>\n",
       "    <tr>\n",
       "      <th>17</th>\n",
       "      <td>Plasma membrane</td>\n",
       "      <td>16759</td>\n",
       "      <td>4190</td>\n",
       "    </tr>\n",
       "    <tr>\n",
       "      <th>18</th>\n",
       "      <td>Vesicles and punctate cytosolic patterns</td>\n",
       "      <td>4315</td>\n",
       "      <td>1079</td>\n",
       "    </tr>\n",
       "  </tbody>\n",
       "</table>\n",
       "</div>"
      ],
      "text/plain": [
       "                                   Cell_Type  Train_SampleCount  \\\n",
       "0                            Actin filaments               4196   \n",
       "1                                  Aggresome               1696   \n",
       "2                                 Centrosome              10921   \n",
       "3                                    Cytosol              17973   \n",
       "4                      Endoplasmic reticulum               8103   \n",
       "5                            Golgi apparatus              14757   \n",
       "6                     Intermediate filaments               8481   \n",
       "7                               Microtubules               6205   \n",
       "8                               Mitochondria              21623   \n",
       "9                            Mitotic spindle                  8   \n",
       "10                                  Negative                747   \n",
       "11                            Nuclear bodies              11977   \n",
       "12                          Nuclear membrane               3839   \n",
       "13                          Nuclear speckles              13786   \n",
       "14                                  Nucleoli               9788   \n",
       "15                 Nucleoli fibrillar center               9757   \n",
       "16                               Nucleoplasm              29593   \n",
       "17                           Plasma membrane              16759   \n",
       "18  Vesicles and punctate cytosolic patterns               4315   \n",
       "\n",
       "    Validation_Sample_Count  \n",
       "0                      1049  \n",
       "1                       424  \n",
       "2                      2730  \n",
       "3                      4493  \n",
       "4                      2026  \n",
       "5                      3689  \n",
       "6                      2120  \n",
       "7                      1551  \n",
       "8                      5406  \n",
       "9                         2  \n",
       "10                      187  \n",
       "11                     2994  \n",
       "12                      960  \n",
       "13                     3447  \n",
       "14                     2447  \n",
       "15                     2440  \n",
       "16                     7398  \n",
       "17                     4190  \n",
       "18                     1079  "
      ]
     },
     "execution_count": 16,
     "metadata": {},
     "output_type": "execute_result"
    }
   ],
   "source": [
    "samples_dict = { \n",
    "    'Cell_Type':dirs, \n",
    "    'Train_SampleCount': train_files_count, \n",
    "    'Validation_Sample_Count': validation_files_count\n",
    "}\n",
    "\n",
    "df = pd.DataFrame(samples_dict)\n",
    "df"
   ]
  },
  {
   "cell_type": "code",
   "execution_count": 17,
   "id": "union-danger",
   "metadata": {},
   "outputs": [],
   "source": [
    "import seaborn as sns\n",
    "import matplotlib.pyplot as plt"
   ]
  },
  {
   "cell_type": "code",
   "execution_count": 22,
   "id": "peripheral-school",
   "metadata": {},
   "outputs": [
    {
     "data": {
      "text/plain": [
       "Text(0, 0.5, 'Count')"
      ]
     },
     "execution_count": 22,
     "metadata": {},
     "output_type": "execute_result"
    },
    {
     "data": {
      "text/plain": [
       "<Figure size 864x720 with 0 Axes>"
      ]
     },
     "metadata": {},
     "output_type": "display_data"
    },
    {
     "data": {
      "image/png": "[encoded data removed]",
      "text/plain": [
       "<Figure size 576x432 with 1 Axes>"
      ]
     },
     "metadata": {
      "needs_background": "light"
     },
     "output_type": "display_data"
    }
   ],
   "source": [
    "plot_df = df[[\"Train_SampleCount\",\"Validation_Sample_Count\"]]\n",
    "plot_df.index = df['Cell_Type']\n",
    "\n",
    "plt.figure(figsize=(12,10))\n",
    "plot_df[[\"Train_SampleCount\",\"Validation_Sample_Count\"]].plot(kind=\"bar\", figsize=(8,6))\n",
    "plt.title(\"Sample Count: Before normalizing\")\n",
    "plt.xlabel(\"Cell type\")\n",
    "plt.ylabel(\"Count\")"
   ]
  },
  {
   "cell_type": "code",
   "execution_count": 24,
   "id": "revised-senator",
   "metadata": {},
   "outputs": [],
   "source": [
    "from random import sample\n",
    "import shutil"
   ]
  },
  {
   "cell_type": "code",
   "execution_count": 30,
   "id": "increasing-things",
   "metadata": {},
   "outputs": [],
   "source": [
    "src = 'data/flow/validation/'\n",
    "dest = 'data/flow-new/validation/'\n",
    "for sub_dir in dirs:\n",
    "    files = glob.glob(f'{src}{sub_dir}/*.png')\n",
    "    files = [os.path.basename(f) for f in files]\n",
    "    if(len(files)>600):\n",
    "        files = sample(files, 600)\n",
    "\n",
    "    for f in files:\n",
    "        shutil.copy(f'{src}{sub_dir}/{f}', f'{dest}{sub_dir}/{f}')"
   ]
  },
  {
   "cell_type": "code",
   "execution_count": 23,
   "id": "popular-theater",
   "metadata": {},
   "outputs": [
    {
     "data": {
      "text/html": [
       "<div>\n",
       "<style scoped>\n",
       "    .dataframe tbody tr th:only-of-type {\n",
       "        vertical-align: middle;\n",
       "    }\n",
       "\n",
       "    .dataframe tbody tr th {\n",
       "        vertical-align: top;\n",
       "    }\n",
       "\n",
       "    .dataframe thead th {\n",
       "        text-align: right;\n",
       "    }\n",
       "</style>\n",
       "<table border=\"1\" class=\"dataframe\">\n",
       "  <thead>\n",
       "    <tr style=\"text-align: right;\">\n",
       "      <th></th>\n",
       "      <th>Cell_Type</th>\n",
       "      <th>Train_SampleCount</th>\n",
       "      <th>Validation_Sample_Count</th>\n",
       "    </tr>\n",
       "  </thead>\n",
       "  <tbody>\n",
       "    <tr>\n",
       "      <th>0</th>\n",
       "      <td>Actin filaments</td>\n",
       "      <td>4196</td>\n",
       "      <td>600</td>\n",
       "    </tr>\n",
       "    <tr>\n",
       "      <th>1</th>\n",
       "      <td>Aggresome</td>\n",
       "      <td>1696</td>\n",
       "      <td>424</td>\n",
       "    </tr>\n",
       "    <tr>\n",
       "      <th>2</th>\n",
       "      <td>Centrosome</td>\n",
       "      <td>4500</td>\n",
       "      <td>600</td>\n",
       "    </tr>\n",
       "    <tr>\n",
       "      <th>3</th>\n",
       "      <td>Cytosol</td>\n",
       "      <td>4500</td>\n",
       "      <td>600</td>\n",
       "    </tr>\n",
       "    <tr>\n",
       "      <th>4</th>\n",
       "      <td>Endoplasmic reticulum</td>\n",
       "      <td>4500</td>\n",
       "      <td>600</td>\n",
       "    </tr>\n",
       "    <tr>\n",
       "      <th>5</th>\n",
       "      <td>Golgi apparatus</td>\n",
       "      <td>4500</td>\n",
       "      <td>600</td>\n",
       "    </tr>\n",
       "    <tr>\n",
       "      <th>6</th>\n",
       "      <td>Intermediate filaments</td>\n",
       "      <td>4500</td>\n",
       "      <td>600</td>\n",
       "    </tr>\n",
       "    <tr>\n",
       "      <th>7</th>\n",
       "      <td>Microtubules</td>\n",
       "      <td>4500</td>\n",
       "      <td>600</td>\n",
       "    </tr>\n",
       "    <tr>\n",
       "      <th>8</th>\n",
       "      <td>Mitochondria</td>\n",
       "      <td>4500</td>\n",
       "      <td>600</td>\n",
       "    </tr>\n",
       "    <tr>\n",
       "      <th>9</th>\n",
       "      <td>Mitotic spindle</td>\n",
       "      <td>8</td>\n",
       "      <td>2</td>\n",
       "    </tr>\n",
       "    <tr>\n",
       "      <th>10</th>\n",
       "      <td>Negative</td>\n",
       "      <td>747</td>\n",
       "      <td>187</td>\n",
       "    </tr>\n",
       "    <tr>\n",
       "      <th>11</th>\n",
       "      <td>Nuclear bodies</td>\n",
       "      <td>4500</td>\n",
       "      <td>600</td>\n",
       "    </tr>\n",
       "    <tr>\n",
       "      <th>12</th>\n",
       "      <td>Nuclear membrane</td>\n",
       "      <td>3839</td>\n",
       "      <td>600</td>\n",
       "    </tr>\n",
       "    <tr>\n",
       "      <th>13</th>\n",
       "      <td>Nuclear speckles</td>\n",
       "      <td>4500</td>\n",
       "      <td>600</td>\n",
       "    </tr>\n",
       "    <tr>\n",
       "      <th>14</th>\n",
       "      <td>Nucleoli</td>\n",
       "      <td>4500</td>\n",
       "      <td>600</td>\n",
       "    </tr>\n",
       "    <tr>\n",
       "      <th>15</th>\n",
       "      <td>Nucleoli fibrillar center</td>\n",
       "      <td>4500</td>\n",
       "      <td>600</td>\n",
       "    </tr>\n",
       "    <tr>\n",
       "      <th>16</th>\n",
       "      <td>Nucleoplasm</td>\n",
       "      <td>4500</td>\n",
       "      <td>600</td>\n",
       "    </tr>\n",
       "    <tr>\n",
       "      <th>17</th>\n",
       "      <td>Plasma membrane</td>\n",
       "      <td>4500</td>\n",
       "      <td>600</td>\n",
       "    </tr>\n",
       "    <tr>\n",
       "      <th>18</th>\n",
       "      <td>Vesicles and punctate cytosolic patterns</td>\n",
       "      <td>4315</td>\n",
       "      <td>600</td>\n",
       "    </tr>\n",
       "  </tbody>\n",
       "</table>\n",
       "</div>"
      ],
      "text/plain": [
       "                                   Cell_Type  Train_SampleCount  \\\n",
       "0                            Actin filaments               4196   \n",
       "1                                  Aggresome               1696   \n",
       "2                                 Centrosome               4500   \n",
       "3                                    Cytosol               4500   \n",
       "4                      Endoplasmic reticulum               4500   \n",
       "5                            Golgi apparatus               4500   \n",
       "6                     Intermediate filaments               4500   \n",
       "7                               Microtubules               4500   \n",
       "8                               Mitochondria               4500   \n",
       "9                            Mitotic spindle                  8   \n",
       "10                                  Negative                747   \n",
       "11                            Nuclear bodies               4500   \n",
       "12                          Nuclear membrane               3839   \n",
       "13                          Nuclear speckles               4500   \n",
       "14                                  Nucleoli               4500   \n",
       "15                 Nucleoli fibrillar center               4500   \n",
       "16                               Nucleoplasm               4500   \n",
       "17                           Plasma membrane               4500   \n",
       "18  Vesicles and punctate cytosolic patterns               4315   \n",
       "\n",
       "    Validation_Sample_Count  \n",
       "0                       600  \n",
       "1                       424  \n",
       "2                       600  \n",
       "3                       600  \n",
       "4                       600  \n",
       "5                       600  \n",
       "6                       600  \n",
       "7                       600  \n",
       "8                       600  \n",
       "9                         2  \n",
       "10                      187  \n",
       "11                      600  \n",
       "12                      600  \n",
       "13                      600  \n",
       "14                      600  \n",
       "15                      600  \n",
       "16                      600  \n",
       "17                      600  \n",
       "18                      600  "
      ]
     },
     "execution_count": 23,
     "metadata": {},
     "output_type": "execute_result"
    }
   ],
   "source": [
    "train_files_count = []\n",
    "for sub_dir in dirs:\n",
    "    p, d, f = next(os.walk(f'data/flow-new/train/{sub_dir}/'))\n",
    "    train_files_count.append(len(f))\n",
    "    \n",
    "validation_files_count = []\n",
    "for sub_dir in dirs:\n",
    "    p, d, f = next(os.walk(f'data/flow-new/validation/{sub_dir}/'))\n",
    "    validation_files_count.append(len(f))\n",
    "    \n",
    "samples_dict = { \n",
    "    'Cell_Type':dirs, \n",
    "    'Train_SampleCount': train_files_count, \n",
    "    'Validation_Sample_Count': validation_files_count\n",
    "}\n",
    "\n",
    "df = pd.DataFrame(samples_dict)\n",
    "df"
   ]
  },
  {
   "cell_type": "code",
   "execution_count": 25,
   "id": "antique-couple",
   "metadata": {},
   "outputs": [
    {
     "data": {
      "text/plain": [
       "Text(0, 0.5, 'Count')"
      ]
     },
     "execution_count": 25,
     "metadata": {},
     "output_type": "execute_result"
    },
    {
     "data": {
      "text/plain": [
       "<Figure size 864x720 with 0 Axes>"
      ]
     },
     "metadata": {},
     "output_type": "display_data"
    },
    {
     "data": {
      "image/png": "[encoded data removed]",
      "text/plain": [
       "<Figure size 576x432 with 1 Axes>"
      ]
     },
     "metadata": {
      "needs_background": "light"
     },
     "output_type": "display_data"
    }
   ],
   "source": [
    "plot_df = df[[\"Train_SampleCount\",\"Validation_Sample_Count\"]]\n",
    "plot_df.index = df['Cell_Type']\n",
    "\n",
    "plt.figure(figsize=(12,10))\n",
    "plot_df[[\"Train_SampleCount\",\"Validation_Sample_Count\"]].plot(kind=\"bar\", figsize=(8,6))\n",
    "plt.title(\"Sample Count: After normalized sampling\")\n",
    "plt.xlabel(\"Cell type\")\n",
    "plt.ylabel(\"Count\")"
   ]
  }
 ],
 "metadata": {
  "kernelspec": {
   "display_name": "Python 3",
   "language": "python",
   "name": "python3"
  },
  "language_info": {
   "codemirror_mode": {
    "name": "ipython",
    "version": 3
   },
   "file_extension": ".py",
   "mimetype": "text/x-python",
   "name": "python",
   "nbconvert_exporter": "python",
   "pygments_lexer": "ipython3",
   "version": "3.8.5"
  }
 },
 "nbformat": 4,
 "nbformat_minor": 5
}
