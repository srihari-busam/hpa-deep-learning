{
 "cells": [
  {
   "cell_type": "code",
   "execution_count": 1,
   "id": "alive-ultimate",
   "metadata": {},
   "outputs": [],
   "source": [
    "import os, os.path\n",
    "import pandas as pd"
   ]
  },
  {
   "cell_type": "code",
   "execution_count": 2,
   "id": "excellent-factor",
   "metadata": {},
   "outputs": [],
   "source": [
    "path, dirs, files = next(os.walk('data/flow/train/'))"
   ]
  },
  {
   "cell_type": "markdown",
   "id": "swedish-springfield",
   "metadata": {},
   "source": [
    "## Files details for 12 class classification"
   ]
  },
  {
   "cell_type": "code",
   "execution_count": 3,
   "id": "leading-jones",
   "metadata": {},
   "outputs": [],
   "source": [
    "train_files_count = []\n",
    "for sub_dir in dirs:\n",
    "    p, d, f = next(os.walk(f'data/flow/train/{sub_dir}/'))\n",
    "    train_files_count.append(len(f))"
   ]
  },
  {
   "cell_type": "code",
   "execution_count": 4,
   "id": "automated-costume",
   "metadata": {},
   "outputs": [],
   "source": [
    "validation_files_count = []\n",
    "for sub_dir in dirs:\n",
    "    p, d, f = next(os.walk(f'data/flow/validation/{sub_dir}/'))\n",
    "    validation_files_count.append(len(f))"
   ]
  },
  {
   "cell_type": "code",
   "execution_count": 5,
   "id": "skilled-registration",
   "metadata": {},
   "outputs": [],
   "source": [
    "test_files_count = []\n",
    "for sub_dir in dirs:\n",
    "    p, d, f = next(os.walk(f'data/flow/test/{sub_dir}/'))\n",
    "    test_files_count.append(len(f))"
   ]
  },
  {
   "cell_type": "code",
   "execution_count": 6,
   "id": "smoking-volleyball",
   "metadata": {},
   "outputs": [
    {
     "data": {
      "text/html": [
       "<div>\n",
       "<style scoped>\n",
       "    .dataframe tbody tr th:only-of-type {\n",
       "        vertical-align: middle;\n",
       "    }\n",
       "\n",
       "    .dataframe tbody tr th {\n",
       "        vertical-align: top;\n",
       "    }\n",
       "\n",
       "    .dataframe thead th {\n",
       "        text-align: right;\n",
       "    }\n",
       "</style>\n",
       "<table border=\"1\" class=\"dataframe\">\n",
       "  <thead>\n",
       "    <tr style=\"text-align: right;\">\n",
       "      <th></th>\n",
       "      <th>Cell_Type</th>\n",
       "      <th>Train_SampleCount</th>\n",
       "      <th>Validation_Sample_Count</th>\n",
       "      <th>Test_Sample_Count</th>\n",
       "    </tr>\n",
       "  </thead>\n",
       "  <tbody>\n",
       "    <tr>\n",
       "      <th>0</th>\n",
       "      <td>Centrosome</td>\n",
       "      <td>6833</td>\n",
       "      <td>1708</td>\n",
       "      <td>570</td>\n",
       "    </tr>\n",
       "    <tr>\n",
       "      <th>1</th>\n",
       "      <td>Cytosol</td>\n",
       "      <td>12593</td>\n",
       "      <td>3148</td>\n",
       "      <td>1049</td>\n",
       "    </tr>\n",
       "    <tr>\n",
       "      <th>2</th>\n",
       "      <td>Endoplasmic reticulum</td>\n",
       "      <td>6005</td>\n",
       "      <td>1502</td>\n",
       "      <td>500</td>\n",
       "    </tr>\n",
       "    <tr>\n",
       "      <th>3</th>\n",
       "      <td>Golgi apparatus</td>\n",
       "      <td>8854</td>\n",
       "      <td>2213</td>\n",
       "      <td>738</td>\n",
       "    </tr>\n",
       "    <tr>\n",
       "      <th>4</th>\n",
       "      <td>Intermediate filaments</td>\n",
       "      <td>5633</td>\n",
       "      <td>1409</td>\n",
       "      <td>469</td>\n",
       "    </tr>\n",
       "    <tr>\n",
       "      <th>5</th>\n",
       "      <td>Mitochondria</td>\n",
       "      <td>14366</td>\n",
       "      <td>3592</td>\n",
       "      <td>1197</td>\n",
       "    </tr>\n",
       "    <tr>\n",
       "      <th>6</th>\n",
       "      <td>Nuclear bodies</td>\n",
       "      <td>7187</td>\n",
       "      <td>1797</td>\n",
       "      <td>599</td>\n",
       "    </tr>\n",
       "    <tr>\n",
       "      <th>7</th>\n",
       "      <td>Nuclear speckles</td>\n",
       "      <td>9055</td>\n",
       "      <td>2263</td>\n",
       "      <td>755</td>\n",
       "    </tr>\n",
       "    <tr>\n",
       "      <th>8</th>\n",
       "      <td>Nucleoli</td>\n",
       "      <td>5735</td>\n",
       "      <td>1433</td>\n",
       "      <td>478</td>\n",
       "    </tr>\n",
       "    <tr>\n",
       "      <th>9</th>\n",
       "      <td>Nucleoli fibrillar center</td>\n",
       "      <td>5477</td>\n",
       "      <td>1370</td>\n",
       "      <td>456</td>\n",
       "    </tr>\n",
       "    <tr>\n",
       "      <th>10</th>\n",
       "      <td>Nucleoplasm</td>\n",
       "      <td>20060</td>\n",
       "      <td>5015</td>\n",
       "      <td>1672</td>\n",
       "    </tr>\n",
       "    <tr>\n",
       "      <th>11</th>\n",
       "      <td>Plasma membrane</td>\n",
       "      <td>11982</td>\n",
       "      <td>2995</td>\n",
       "      <td>999</td>\n",
       "    </tr>\n",
       "  </tbody>\n",
       "</table>\n",
       "</div>"
      ],
      "text/plain": [
       "                    Cell_Type  Train_SampleCount  Validation_Sample_Count  \\\n",
       "0                  Centrosome               6833                     1708   \n",
       "1                     Cytosol              12593                     3148   \n",
       "2       Endoplasmic reticulum               6005                     1502   \n",
       "3             Golgi apparatus               8854                     2213   \n",
       "4      Intermediate filaments               5633                     1409   \n",
       "5                Mitochondria              14366                     3592   \n",
       "6              Nuclear bodies               7187                     1797   \n",
       "7            Nuclear speckles               9055                     2263   \n",
       "8                    Nucleoli               5735                     1433   \n",
       "9   Nucleoli fibrillar center               5477                     1370   \n",
       "10                Nucleoplasm              20060                     5015   \n",
       "11            Plasma membrane              11982                     2995   \n",
       "\n",
       "    Test_Sample_Count  \n",
       "0                 570  \n",
       "1                1049  \n",
       "2                 500  \n",
       "3                 738  \n",
       "4                 469  \n",
       "5                1197  \n",
       "6                 599  \n",
       "7                 755  \n",
       "8                 478  \n",
       "9                 456  \n",
       "10               1672  \n",
       "11                999  "
      ]
     },
     "execution_count": 6,
     "metadata": {},
     "output_type": "execute_result"
    }
   ],
   "source": [
    "samples_dict = { \n",
    "    'Cell_Type':dirs, \n",
    "    'Train_SampleCount': train_files_count, \n",
    "    'Validation_Sample_Count': validation_files_count,\n",
    "    'Test_Sample_Count':test_files_count\n",
    "}\n",
    "\n",
    "df = pd.DataFrame(samples_dict)\n",
    "df"
   ]
  },
  {
   "cell_type": "code",
   "execution_count": 7,
   "id": "heavy-mumbai",
   "metadata": {},
   "outputs": [],
   "source": [
    "df.to_csv('12-class-samples-count.csv')"
   ]
  },
  {
   "cell_type": "code",
   "execution_count": 8,
   "id": "japanese-acting",
   "metadata": {},
   "outputs": [],
   "source": [
    "import seaborn as sns\n",
    "import matplotlib.pyplot as plt"
   ]
  },
  {
   "cell_type": "code",
   "execution_count": 9,
   "id": "iraqi-monster",
   "metadata": {},
   "outputs": [],
   "source": [
    "plot_df = df[[\"Train_SampleCount\",\"Validation_Sample_Count\",\"Test_Sample_Count\"]]\n",
    "plot_df.index = df['Cell_Type'] "
   ]
  },
  {
   "cell_type": "code",
   "execution_count": 10,
   "id": "compliant-catch",
   "metadata": {},
   "outputs": [
    {
     "data": {
      "text/plain": [
       "Text(0, 0.5, 'Count')"
      ]
     },
     "execution_count": 10,
     "metadata": {},
     "output_type": "execute_result"
    },
    {
     "data": {
      "text/plain": [
       "<Figure size 864x720 with 0 Axes>"
      ]
     },
     "metadata": {},
     "output_type": "display_data"
    },
    {
     "data": {
      "image/png": "[encoded data removed]",
      "text/plain": [
       "<Figure size 576x432 with 1 Axes>"
      ]
     },
     "metadata": {
      "needs_background": "light"
     },
     "output_type": "display_data"
    }
   ],
   "source": [
    "plt.figure(figsize=(12,10))\n",
    "plot_df[[\"Train_SampleCount\",\"Validation_Sample_Count\",\"Test_Sample_Count\"]].plot(kind=\"bar\", figsize=(8,6))\n",
    "plt.title(\"Sample Count for training, validation and testing\")\n",
    "plt.xlabel(\"Cell type\")\n",
    "plt.ylabel(\"Count\")"
   ]
  },
  {
   "cell_type": "markdown",
   "id": "soviet-engagement",
   "metadata": {},
   "source": [
    "## Files details for 19 class classification"
   ]
  },
  {
   "cell_type": "code",
   "execution_count": null,
   "id": "social-compatibility",
   "metadata": {},
   "outputs": [],
   "source": []
  }
 ],
 "metadata": {
  "kernelspec": {
   "display_name": "Python 3",
   "language": "python",
   "name": "python3"
  },
  "language_info": {
   "codemirror_mode": {
    "name": "ipython",
    "version": 3
   },
   "file_extension": ".py",
   "mimetype": "text/x-python",
   "name": "python",
   "nbconvert_exporter": "python",
   "pygments_lexer": "ipython3",
   "version": "3.8.5"
  }
 },
 "nbformat": 4,
 "nbformat_minor": 5
}
