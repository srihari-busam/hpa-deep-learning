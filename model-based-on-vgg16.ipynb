{
 "cells": [
  {
   "cell_type": "code",
   "execution_count": 1,
   "id": "alive-pendant",
   "metadata": {},
   "outputs": [],
   "source": [
    "import os\n",
    "import numpy as np\n",
    "import pandas as pd\n",
    "import glob\n",
    "import math\n",
    "\n",
    "# sklearn imports\n",
    "from sklearn.model_selection import train_test_split\n",
    "from sklearn.metrics import confusion_matrix\n",
    "\n",
    "#image imports\n",
    "import imageio\n",
    "\n",
    "import tensorflow as tf\n",
    "from tensorflow.keras.applications.efficientnet import preprocess_input\n",
    "from tensorflow.keras.preprocessing.image import ImageDataGenerator\n",
    "from tensorflow.keras.layers import GlobalAveragePooling2D, GlobalAveragePooling1D\n",
    "from tensorflow.keras.applications.vgg16 import VGG16\n",
    "from tensorflow.keras.applications.resnet50 import preprocess_input, decode_predictions\n",
    "from tensorflow.keras.layers import Input, Lambda, Dense, Flatten\n",
    "from tensorflow.keras.models import Model\n",
    "\n",
    "# plotting\n",
    "import matplotlib.pyplot as plt\n",
    "import seaborn as sns\n",
    "\n",
    "# utils\n",
    "from IPython.display import clear_output"
   ]
  },
  {
   "cell_type": "markdown",
   "id": "binding-direction",
   "metadata": {},
   "source": [
    "### Labels used in the process\n",
    "* Out of 19 only 12 labes or interest are used and defined here"
   ]
  },
  {
   "cell_type": "code",
   "execution_count": 2,
   "id": "perfect-necessity",
   "metadata": {},
   "outputs": [],
   "source": [
    "label_to_name = {\n",
    "    0: \"Nucleoplasm\",\n",
    "    1: \"Nucleoli\",\n",
    "    2: \"Nucleoli fibrillar center\",\n",
    "    3: \"Nuclear speckles\",\n",
    "    4: \"Nuclear bodies\",\n",
    "    5: \"Endoplasmic reticulum\",\n",
    "    6: \"Golgi apparatus\",\n",
    "    7: \"Intermediate filaments\",\n",
    "    8: \"Centrosome\",\n",
    "    9: \"Plasma membrane\",\n",
    "    10: \"Mitochondria\",\n",
    "    11: \"Cytosol\"\n",
    "}\n",
    "\n",
    "name_label = {\n",
    "    \"Nucleoplasm\":0,\n",
    "    \"Nucleoli\":1,\n",
    "    \"Nucleoli fibrillar center\":2,\n",
    "    \"Nuclear speckles\":3,\n",
    "    \"Nuclear bodies\":4,\n",
    "    \"Endoplasmic reticulum\":5,\n",
    "    \"Golgi apparatus\":6,\n",
    "    \"Intermediate filaments\":7,\n",
    "    \"Centrosome\":8,\n",
    "    \"Plasma membrane\":9,\n",
    "    \"Mitochondria\":10,\n",
    "    \"Cytosol\":11\n",
    "}"
   ]
  },
  {
   "cell_type": "markdown",
   "id": "strange-aberdeen",
   "metadata": {},
   "source": [
    "### Constants used for modeling\n",
    "* Each folder has files for all the 12 classes outlined abouve.\n",
    "* image size choosen as 512 X 512"
   ]
  },
  {
   "cell_type": "code",
   "execution_count": 3,
   "id": "provincial-dietary",
   "metadata": {},
   "outputs": [],
   "source": [
    "IMAGE_SIZE = [512,512]\n",
    "\n",
    "train_path = 'data/flow/train'\n",
    "validation_path = 'data/flow/validation'\n",
    "test_path = 'data/flow/test'\n",
    "batch_size = 32\n",
    "label_count = 12"
   ]
  },
  {
   "cell_type": "code",
   "execution_count": 4,
   "id": "driven-jurisdiction",
   "metadata": {},
   "outputs": [],
   "source": [
    "## TBD -- outline how many samples in each class label.."
   ]
  },
  {
   "cell_type": "markdown",
   "id": "exciting-noise",
   "metadata": {},
   "source": [
    "### Geenrators for the train, validation and test\n",
    "* To train models, keras image generator and images from `labels` directories are used\n",
    "* Image files are created in the folders such a way that keras `ImageDataGenerator` and `flow_from_directory` utils can be used to read and feed them to neural network"
   ]
  },
  {
   "cell_type": "code",
   "execution_count": 5,
   "id": "expanded-convergence",
   "metadata": {},
   "outputs": [],
   "source": [
    "# image generator for train and validation.\n",
    "# For trainin and test image manipulation parameters are defined as below\n",
    "gen = ImageDataGenerator(\n",
    "  rotation_range=20,\n",
    "  width_shift_range=0.2,\n",
    "  height_shift_range=0.2,\n",
    "  shear_range=0.2,\n",
    "  zoom_range=0.3,\n",
    "  horizontal_flip=True,\n",
    "  vertical_flip=True,\n",
    "  preprocessing_function=preprocess_input\n",
    ")\n",
    "\n",
    "# Test generator, feed the images as is\n",
    "test_gen = ImageDataGenerator(preprocessing_function=preprocess_input)"
   ]
  },
  {
   "cell_type": "code",
   "execution_count": 6,
   "id": "physical-possibility",
   "metadata": {},
   "outputs": [
    {
     "name": "stdout",
     "output_type": "stream",
     "text": [
      "Found 113780 images belonging to 12 classes.\n",
      "Found 28445 images belonging to 12 classes.\n",
      "Found 9482 images belonging to 12 classes.\n"
     ]
    }
   ],
   "source": [
    "# create generators\n",
    "train_generator = gen.flow_from_directory(\n",
    "    train_path,\n",
    "    target_size=IMAGE_SIZE,\n",
    "    shuffle=True,\n",
    "    batch_size=batch_size,\n",
    "    seed=123\n",
    ")\n",
    "valid_generator = gen.flow_from_directory(\n",
    "    validation_path,\n",
    "    target_size=IMAGE_SIZE,\n",
    "    shuffle=True,\n",
    "    batch_size=batch_size,\n",
    "    seed=456\n",
    ")\n",
    "\n",
    "test_gen = test_gen.flow_from_directory(\n",
    "    test_path,\n",
    "    target_size=IMAGE_SIZE,\n",
    "    shuffle=False,\n",
    "    batch_size=batch_size\n",
    ")"
   ]
  },
  {
   "cell_type": "code",
   "execution_count": 27,
   "id": "outdoor-train",
   "metadata": {},
   "outputs": [
    {
     "name": "stdout",
     "output_type": "stream",
     "text": [
      "[ 0  0  0 ... 11 11 11]\n"
     ]
    }
   ],
   "source": [
    "print(test_gen.)"
   ]
  },
  {
   "cell_type": "markdown",
   "id": "strong-highway",
   "metadata": {},
   "source": [
    "## Define model"
   ]
  },
  {
   "cell_type": "code",
   "execution_count": 7,
   "id": "buried-documentation",
   "metadata": {},
   "outputs": [],
   "source": [
    "vgg16 = VGG16(\n",
    "    input_shape=[512, 512, 3], \n",
    "    include_top=False, \n",
    "    weights=None)\n",
    "x = Flatten()(vgg16.output)\n",
    "x = Dense(label_count, activation='softmax')(x)\n",
    "vgg16_model = Model(vgg16.input, x)\n",
    "vgg16_model.compile(loss='categorical_crossentropy', optimizer='rmsprop', metrics=['accuracy'])"
   ]
  },
  {
   "cell_type": "markdown",
   "id": "laughing-shirt",
   "metadata": {},
   "source": [
    "## Model summary"
   ]
  },
  {
   "cell_type": "code",
   "execution_count": 8,
   "id": "motivated-stream",
   "metadata": {},
   "outputs": [
    {
     "name": "stdout",
     "output_type": "stream",
     "text": [
      "Model: \"vgg16\"\n",
      "_________________________________________________________________\n",
      "Layer (type)                 Output Shape              Param #   \n",
      "=================================================================\n",
      "input_1 (InputLayer)         [(None, 512, 512, 3)]     0         \n",
      "_________________________________________________________________\n",
      "block1_conv1 (Conv2D)        (None, 512, 512, 64)      1792      \n",
      "_________________________________________________________________\n",
      "block1_conv2 (Conv2D)        (None, 512, 512, 64)      36928     \n",
      "_________________________________________________________________\n",
      "block1_pool (MaxPooling2D)   (None, 256, 256, 64)      0         \n",
      "_________________________________________________________________\n",
      "block2_conv1 (Conv2D)        (None, 256, 256, 128)     73856     \n",
      "_________________________________________________________________\n",
      "block2_conv2 (Conv2D)        (None, 256, 256, 128)     147584    \n",
      "_________________________________________________________________\n",
      "block2_pool (MaxPooling2D)   (None, 128, 128, 128)     0         \n",
      "_________________________________________________________________\n",
      "block3_conv1 (Conv2D)        (None, 128, 128, 256)     295168    \n",
      "_________________________________________________________________\n",
      "block3_conv2 (Conv2D)        (None, 128, 128, 256)     590080    \n",
      "_________________________________________________________________\n",
      "block3_conv3 (Conv2D)        (None, 128, 128, 256)     590080    \n",
      "_________________________________________________________________\n",
      "block3_pool (MaxPooling2D)   (None, 64, 64, 256)       0         \n",
      "_________________________________________________________________\n",
      "block4_conv1 (Conv2D)        (None, 64, 64, 512)       1180160   \n",
      "_________________________________________________________________\n",
      "block4_conv2 (Conv2D)        (None, 64, 64, 512)       2359808   \n",
      "_________________________________________________________________\n",
      "block4_conv3 (Conv2D)        (None, 64, 64, 512)       2359808   \n",
      "_________________________________________________________________\n",
      "block4_pool (MaxPooling2D)   (None, 32, 32, 512)       0         \n",
      "_________________________________________________________________\n",
      "block5_conv1 (Conv2D)        (None, 32, 32, 512)       2359808   \n",
      "_________________________________________________________________\n",
      "block5_conv2 (Conv2D)        (None, 32, 32, 512)       2359808   \n",
      "_________________________________________________________________\n",
      "block5_conv3 (Conv2D)        (None, 32, 32, 512)       2359808   \n",
      "_________________________________________________________________\n",
      "block5_pool (MaxPooling2D)   (None, 16, 16, 512)       0         \n",
      "=================================================================\n",
      "Total params: 14,714,688\n",
      "Trainable params: 14,714,688\n",
      "Non-trainable params: 0\n",
      "_________________________________________________________________\n"
     ]
    }
   ],
   "source": [
    "vgg16.summary()"
   ]
  },
  {
   "cell_type": "code",
   "execution_count": 12,
   "id": "convertible-calvin",
   "metadata": {},
   "outputs": [],
   "source": [
    "opt_adam = tf.keras.optimizers.Adam(learning_rate=0.0001)\n",
    "vgg16_model.compile(loss='categorical_crossentropy', optimizer=opt_adam, metrics=['accuracy'])"
   ]
  },
  {
   "cell_type": "markdown",
   "id": "silver-shark",
   "metadata": {},
   "source": [
    "## Load saved model"
   ]
  },
  {
   "cell_type": "code",
   "execution_count": 13,
   "id": "turkish-document",
   "metadata": {},
   "outputs": [],
   "source": [
    "# vgg16 = tf.keras.models.load_model('saved-model/vgg-16-adam/', compile=False)"
   ]
  },
  {
   "cell_type": "code",
   "execution_count": 14,
   "id": "prompt-statistics",
   "metadata": {},
   "outputs": [],
   "source": [
    "# opt = tf.keras.optimizers.Adam(learning_rate=0.0000001, amsgrad=True)\n",
    "# opt = tf.keras.optimizers.Nadam(learning_rate=0.000001,beta_1=0.9, beta_2=0.999)\n",
    "# vgg16.compile(loss='categorical_crossentropy', optimizer=opt, metrics=['accuracy'])"
   ]
  },
  {
   "cell_type": "markdown",
   "id": "enormous-instrument",
   "metadata": {},
   "source": [
    "## Train and validate model"
   ]
  },
  {
   "cell_type": "code",
   "execution_count": 15,
   "id": "korean-sarah",
   "metadata": {},
   "outputs": [],
   "source": [
    "from tensorflow.keras.callbacks import LearningRateScheduler, EarlyStopping, ModelCheckpoint\n",
    "initial_learning_rate = 0.0001\n",
    "def lr_step_decay(epoch, lr):\n",
    "    drop_rate = 0.5\n",
    "    epochs_drop = 25.0\n",
    "    return initial_learning_rate * math.pow(drop_rate, math.floor(epoch/epochs_drop))\n",
    "\n",
    "lr = LearningRateScheduler(lr_step_decay, verbose=1)\n",
    "es = EarlyStopping(monitor='val_accuracy', patience=20, verbose=1,restore_best_weights=True)\n",
    "cp = ModelCheckpoint(filepath='saved-model/vgg-16-adam', save_weights_only=False,monitor='val_accuracy', mode='max',save_best_only=True)"
   ]
  },
  {
   "cell_type": "code",
   "execution_count": 16,
   "id": "directed-knitting",
   "metadata": {},
   "outputs": [
    {
     "name": "stderr",
     "output_type": "stream",
     "text": [
      "C:\\Users\\sriha\\anaconda3\\envs\\tf\\lib\\site-packages\\tensorflow\\python\\keras\\engine\\training.py:1844: UserWarning: `Model.fit_generator` is deprecated and will be removed in a future version. Please use `Model.fit`, which supports generators.\n",
      "  warnings.warn('`Model.fit_generator` is deprecated and '\n"
     ]
    },
    {
     "name": "stdout",
     "output_type": "stream",
     "text": [
      "Epoch 1/150\n",
      "\n",
      "Epoch 00001: LearningRateScheduler reducing learning rate to 0.0001.\n",
      "100/100 [==============================] - 145s 1s/step - loss: 2.4807 - accuracy: 0.1613 - val_loss: 2.3818 - val_accuracy: 0.1984\n",
      "INFO:tensorflow:Assets written to: saved-model\\vgg-16-adam\\assets\n",
      "Epoch 2/150\n",
      "\n",
      "Epoch 00002: LearningRateScheduler reducing learning rate to 0.0001.\n",
      "100/100 [==============================] - 122s 1s/step - loss: 2.4071 - accuracy: 0.1680 - val_loss: 2.4238 - val_accuracy: 0.1656\n",
      "Epoch 3/150\n",
      "\n",
      "Epoch 00003: LearningRateScheduler reducing learning rate to 0.0001.\n",
      "100/100 [==============================] - 122s 1s/step - loss: 2.3995 - accuracy: 0.1771 - val_loss: 2.3386 - val_accuracy: 0.1828\n",
      "Epoch 4/150\n",
      "\n",
      "Epoch 00004: LearningRateScheduler reducing learning rate to 0.0001.\n",
      "100/100 [==============================] - 122s 1s/step - loss: 2.3796 - accuracy: 0.1775 - val_loss: 2.3782 - val_accuracy: 0.1688\n",
      "Epoch 5/150\n",
      "\n",
      "Epoch 00005: LearningRateScheduler reducing learning rate to 0.0001.\n",
      "100/100 [==============================] - 121s 1s/step - loss: 2.3789 - accuracy: 0.1893 - val_loss: 2.3230 - val_accuracy: 0.1969\n",
      "Epoch 6/150\n",
      "\n",
      "Epoch 00006: LearningRateScheduler reducing learning rate to 0.0001.\n",
      "100/100 [==============================] - 121s 1s/step - loss: 2.3176 - accuracy: 0.1943 - val_loss: 2.3163 - val_accuracy: 0.1906\n",
      "Epoch 7/150\n",
      "\n",
      "Epoch 00007: LearningRateScheduler reducing learning rate to 0.0001.\n",
      "100/100 [==============================] - 121s 1s/step - loss: 2.2945 - accuracy: 0.2069 - val_loss: 2.2944 - val_accuracy: 0.1937\n",
      "Epoch 8/150\n",
      "\n",
      "Epoch 00008: LearningRateScheduler reducing learning rate to 0.0001.\n",
      "100/100 [==============================] - 121s 1s/step - loss: 2.2726 - accuracy: 0.2141 - val_loss: 2.2679 - val_accuracy: 0.2062\n",
      "INFO:tensorflow:Assets written to: saved-model\\vgg-16-adam\\assets\n",
      "Epoch 9/150\n",
      "\n",
      "Epoch 00009: LearningRateScheduler reducing learning rate to 0.0001.\n",
      "100/100 [==============================] - 121s 1s/step - loss: 2.2619 - accuracy: 0.2265 - val_loss: 2.2449 - val_accuracy: 0.2125\n",
      "INFO:tensorflow:Assets written to: saved-model\\vgg-16-adam\\assets\n",
      "Epoch 10/150\n",
      "\n",
      "Epoch 00010: LearningRateScheduler reducing learning rate to 0.0001.\n",
      "100/100 [==============================] - 121s 1s/step - loss: 2.2598 - accuracy: 0.2238 - val_loss: 2.2567 - val_accuracy: 0.2000\n",
      "Epoch 11/150\n",
      "\n",
      "Epoch 00011: LearningRateScheduler reducing learning rate to 0.0001.\n",
      "100/100 [==============================] - 121s 1s/step - loss: 2.2412 - accuracy: 0.2443 - val_loss: 2.2255 - val_accuracy: 0.2547\n",
      "INFO:tensorflow:Assets written to: saved-model\\vgg-16-adam\\assets\n",
      "Epoch 12/150\n",
      "\n",
      "Epoch 00012: LearningRateScheduler reducing learning rate to 0.0001.\n",
      "100/100 [==============================] - 121s 1s/step - loss: 2.2061 - accuracy: 0.2425 - val_loss: 2.1388 - val_accuracy: 0.2547\n",
      "Epoch 13/150\n",
      "\n",
      "Epoch 00013: LearningRateScheduler reducing learning rate to 0.0001.\n",
      "100/100 [==============================] - 121s 1s/step - loss: 2.2354 - accuracy: 0.2307 - val_loss: 2.1843 - val_accuracy: 0.2547\n",
      "Epoch 14/150\n",
      "\n",
      "Epoch 00014: LearningRateScheduler reducing learning rate to 0.0001.\n",
      "100/100 [==============================] - 121s 1s/step - loss: 2.2018 - accuracy: 0.2530 - val_loss: 2.1573 - val_accuracy: 0.2734\n",
      "INFO:tensorflow:Assets written to: saved-model\\vgg-16-adam\\assets\n",
      "Epoch 15/150\n",
      "\n",
      "Epoch 00015: LearningRateScheduler reducing learning rate to 0.0001.\n",
      "100/100 [==============================] - 121s 1s/step - loss: 2.2022 - accuracy: 0.2358 - val_loss: 2.1252 - val_accuracy: 0.2734\n",
      "Epoch 16/150\n",
      "\n",
      "Epoch 00016: LearningRateScheduler reducing learning rate to 0.0001.\n",
      "100/100 [==============================] - 121s 1s/step - loss: 2.1749 - accuracy: 0.2643 - val_loss: 2.0938 - val_accuracy: 0.2875\n",
      "INFO:tensorflow:Assets written to: saved-model\\vgg-16-adam\\assets\n",
      "Epoch 17/150\n",
      "\n",
      "Epoch 00017: LearningRateScheduler reducing learning rate to 0.0001.\n",
      "100/100 [==============================] - 121s 1s/step - loss: 2.1407 - accuracy: 0.2594 - val_loss: 2.1879 - val_accuracy: 0.2703\n",
      "Epoch 18/150\n",
      "\n",
      "Epoch 00018: LearningRateScheduler reducing learning rate to 0.0001.\n",
      "100/100 [==============================] - 121s 1s/step - loss: 2.1291 - accuracy: 0.2849 - val_loss: 2.1252 - val_accuracy: 0.3031\n",
      "INFO:tensorflow:Assets written to: saved-model\\vgg-16-adam\\assets\n",
      "Epoch 19/150\n",
      "\n",
      "Epoch 00019: LearningRateScheduler reducing learning rate to 0.0001.\n",
      "100/100 [==============================] - 120s 1s/step - loss: 2.0964 - accuracy: 0.2820 - val_loss: 2.0489 - val_accuracy: 0.3125\n",
      "INFO:tensorflow:Assets written to: saved-model\\vgg-16-adam\\assets\n",
      "Epoch 20/150\n",
      "\n",
      "Epoch 00020: LearningRateScheduler reducing learning rate to 0.0001.\n",
      "100/100 [==============================] - 120s 1s/step - loss: 2.1159 - accuracy: 0.2673 - val_loss: 2.0962 - val_accuracy: 0.2844\n",
      "Epoch 21/150\n",
      "\n",
      "Epoch 00021: LearningRateScheduler reducing learning rate to 0.0001.\n",
      "100/100 [==============================] - 121s 1s/step - loss: 2.1425 - accuracy: 0.2769 - val_loss: 2.0668 - val_accuracy: 0.2922\n",
      "Epoch 22/150\n",
      "\n",
      "Epoch 00022: LearningRateScheduler reducing learning rate to 0.0001.\n",
      "100/100 [==============================] - 122s 1s/step - loss: 2.0344 - accuracy: 0.3185 - val_loss: 2.0188 - val_accuracy: 0.3406\n",
      "INFO:tensorflow:Assets written to: saved-model\\vgg-16-adam\\assets\n",
      "Epoch 23/150\n",
      "\n",
      "Epoch 00023: LearningRateScheduler reducing learning rate to 0.0001.\n",
      "100/100 [==============================] - 121s 1s/step - loss: 2.0513 - accuracy: 0.2964 - val_loss: 2.0627 - val_accuracy: 0.3047\n",
      "Epoch 24/150\n",
      "\n",
      "Epoch 00024: LearningRateScheduler reducing learning rate to 0.0001.\n",
      "100/100 [==============================] - 124s 1s/step - loss: 2.0056 - accuracy: 0.3300 - val_loss: 1.9735 - val_accuracy: 0.3281\n",
      "Epoch 25/150\n",
      "\n",
      "Epoch 00025: LearningRateScheduler reducing learning rate to 0.0001.\n",
      "100/100 [==============================] - 126s 1s/step - loss: 2.0251 - accuracy: 0.3049 - val_loss: 2.0594 - val_accuracy: 0.3281\n",
      "Epoch 26/150\n",
      "\n",
      "Epoch 00026: LearningRateScheduler reducing learning rate to 5e-05.\n",
      "100/100 [==============================] - 122s 1s/step - loss: 1.9948 - accuracy: 0.3096 - val_loss: 1.9649 - val_accuracy: 0.3313\n",
      "Epoch 27/150\n",
      "\n",
      "Epoch 00027: LearningRateScheduler reducing learning rate to 5e-05.\n",
      "100/100 [==============================] - 123s 1s/step - loss: 1.9405 - accuracy: 0.3546 - val_loss: 1.9541 - val_accuracy: 0.3453\n",
      "INFO:tensorflow:Assets written to: saved-model\\vgg-16-adam\\assets\n",
      "Epoch 28/150\n",
      "\n",
      "Epoch 00028: LearningRateScheduler reducing learning rate to 5e-05.\n",
      "100/100 [==============================] - 121s 1s/step - loss: 1.9033 - accuracy: 0.3648 - val_loss: 1.9242 - val_accuracy: 0.3750\n",
      "INFO:tensorflow:Assets written to: saved-model\\vgg-16-adam\\assets\n",
      "Epoch 29/150\n",
      "\n",
      "Epoch 00029: LearningRateScheduler reducing learning rate to 5e-05.\n",
      "100/100 [==============================] - 121s 1s/step - loss: 1.9159 - accuracy: 0.3426 - val_loss: 1.9003 - val_accuracy: 0.3531\n",
      "Epoch 30/150\n",
      "\n",
      "Epoch 00030: LearningRateScheduler reducing learning rate to 5e-05.\n",
      "100/100 [==============================] - 120s 1s/step - loss: 1.9134 - accuracy: 0.3572 - val_loss: 1.9226 - val_accuracy: 0.3641\n",
      "Epoch 31/150\n",
      "\n",
      "Epoch 00031: LearningRateScheduler reducing learning rate to 5e-05.\n",
      "100/100 [==============================] - 120s 1s/step - loss: 1.8459 - accuracy: 0.3625 - val_loss: 1.9281 - val_accuracy: 0.3516\n",
      "Epoch 32/150\n",
      "\n",
      "Epoch 00032: LearningRateScheduler reducing learning rate to 5e-05.\n",
      "100/100 [==============================] - 121s 1s/step - loss: 1.9227 - accuracy: 0.3466 - val_loss: 1.9566 - val_accuracy: 0.3500\n",
      "Epoch 33/150\n",
      "\n",
      "Epoch 00033: LearningRateScheduler reducing learning rate to 5e-05.\n",
      "100/100 [==============================] - 120s 1s/step - loss: 1.8614 - accuracy: 0.3691 - val_loss: 1.8416 - val_accuracy: 0.3922\n",
      "INFO:tensorflow:Assets written to: saved-model\\vgg-16-adam\\assets\n",
      "Epoch 34/150\n",
      "\n",
      "Epoch 00034: LearningRateScheduler reducing learning rate to 5e-05.\n",
      "100/100 [==============================] - 120s 1s/step - loss: 1.8751 - accuracy: 0.3794 - val_loss: 1.8114 - val_accuracy: 0.3938\n",
      "INFO:tensorflow:Assets written to: saved-model\\vgg-16-adam\\assets\n",
      "Epoch 35/150\n",
      "\n",
      "Epoch 00035: LearningRateScheduler reducing learning rate to 5e-05.\n",
      "100/100 [==============================] - 122s 1s/step - loss: 1.8566 - accuracy: 0.3776 - val_loss: 1.7645 - val_accuracy: 0.4016\n",
      "INFO:tensorflow:Assets written to: saved-model\\vgg-16-adam\\assets\n",
      "Epoch 36/150\n",
      "\n",
      "Epoch 00036: LearningRateScheduler reducing learning rate to 5e-05.\n",
      "100/100 [==============================] - 121s 1s/step - loss: 1.7982 - accuracy: 0.3882 - val_loss: 1.9067 - val_accuracy: 0.3516\n",
      "Epoch 37/150\n",
      "\n",
      "Epoch 00037: LearningRateScheduler reducing learning rate to 5e-05.\n",
      "100/100 [==============================] - 121s 1s/step - loss: 1.8083 - accuracy: 0.4076 - val_loss: 1.9314 - val_accuracy: 0.3625\n",
      "Epoch 38/150\n",
      "\n",
      "Epoch 00038: LearningRateScheduler reducing learning rate to 5e-05.\n",
      "100/100 [==============================] - 120s 1s/step - loss: 1.7754 - accuracy: 0.4074 - val_loss: 1.8279 - val_accuracy: 0.3875\n",
      "Epoch 39/150\n",
      "\n",
      "Epoch 00039: LearningRateScheduler reducing learning rate to 5e-05.\n",
      "100/100 [==============================] - 137s 1s/step - loss: 1.8085 - accuracy: 0.3812 - val_loss: 1.8137 - val_accuracy: 0.3938\n",
      "Epoch 40/150\n",
      "\n",
      "Epoch 00040: LearningRateScheduler reducing learning rate to 5e-05.\n",
      "100/100 [==============================] - 121s 1s/step - loss: 1.8208 - accuracy: 0.3968 - val_loss: 1.7753 - val_accuracy: 0.4156\n",
      "INFO:tensorflow:Assets written to: saved-model\\vgg-16-adam\\assets\n",
      "Epoch 41/150\n",
      "\n",
      "Epoch 00041: LearningRateScheduler reducing learning rate to 5e-05.\n",
      "100/100 [==============================] - 121s 1s/step - loss: 1.7876 - accuracy: 0.4129 - val_loss: 1.7797 - val_accuracy: 0.4141\n",
      "Epoch 42/150\n",
      "\n",
      "Epoch 00042: LearningRateScheduler reducing learning rate to 5e-05.\n",
      "100/100 [==============================] - 121s 1s/step - loss: 1.7409 - accuracy: 0.4199 - val_loss: 1.8654 - val_accuracy: 0.3625\n",
      "Epoch 43/150\n",
      "\n",
      "Epoch 00043: LearningRateScheduler reducing learning rate to 5e-05.\n",
      "100/100 [==============================] - 120s 1s/step - loss: 1.7771 - accuracy: 0.4012 - val_loss: 1.8147 - val_accuracy: 0.3984\n",
      "Epoch 44/150\n",
      "\n",
      "Epoch 00044: LearningRateScheduler reducing learning rate to 5e-05.\n",
      "100/100 [==============================] - 124s 1s/step - loss: 1.7666 - accuracy: 0.4227 - val_loss: 1.7780 - val_accuracy: 0.4219\n",
      "INFO:tensorflow:Assets written to: saved-model\\vgg-16-adam\\assets\n",
      "Epoch 45/150\n",
      "\n",
      "Epoch 00045: LearningRateScheduler reducing learning rate to 5e-05.\n",
      "100/100 [==============================] - 123s 1s/step - loss: 1.7913 - accuracy: 0.3908 - val_loss: 1.7321 - val_accuracy: 0.3969\n",
      "Epoch 46/150\n",
      "\n",
      "Epoch 00046: LearningRateScheduler reducing learning rate to 5e-05.\n",
      "100/100 [==============================] - 123s 1s/step - loss: 1.7684 - accuracy: 0.4022 - val_loss: 1.8709 - val_accuracy: 0.3750\n",
      "Epoch 47/150\n",
      "\n",
      "Epoch 00047: LearningRateScheduler reducing learning rate to 5e-05.\n",
      "100/100 [==============================] - 123s 1s/step - loss: 1.7575 - accuracy: 0.4158 - val_loss: 1.8675 - val_accuracy: 0.3859\n",
      "Epoch 48/150\n",
      "\n",
      "Epoch 00048: LearningRateScheduler reducing learning rate to 5e-05.\n",
      "100/100 [==============================] - 123s 1s/step - loss: 1.7237 - accuracy: 0.4139 - val_loss: 1.7600 - val_accuracy: 0.4344\n",
      "INFO:tensorflow:Assets written to: saved-model\\vgg-16-adam\\assets\n",
      "Epoch 49/150\n",
      "\n",
      "Epoch 00049: LearningRateScheduler reducing learning rate to 5e-05.\n",
      "100/100 [==============================] - 124s 1s/step - loss: 1.7724 - accuracy: 0.4113 - val_loss: 1.7978 - val_accuracy: 0.4047\n",
      "Epoch 50/150\n",
      "\n",
      "Epoch 00050: LearningRateScheduler reducing learning rate to 5e-05.\n",
      "100/100 [==============================] - 122s 1s/step - loss: 1.7736 - accuracy: 0.4129 - val_loss: 1.8479 - val_accuracy: 0.3625\n",
      "Epoch 51/150\n",
      "\n",
      "Epoch 00051: LearningRateScheduler reducing learning rate to 2.5e-05.\n",
      "100/100 [==============================] - 122s 1s/step - loss: 1.7747 - accuracy: 0.3853 - val_loss: 1.6904 - val_accuracy: 0.4281\n",
      "Epoch 52/150\n",
      "\n",
      "Epoch 00052: LearningRateScheduler reducing learning rate to 2.5e-05.\n",
      "100/100 [==============================] - 122s 1s/step - loss: 1.7250 - accuracy: 0.4180 - val_loss: 1.7188 - val_accuracy: 0.4219\n",
      "Epoch 53/150\n",
      "\n",
      "Epoch 00053: LearningRateScheduler reducing learning rate to 2.5e-05.\n",
      "100/100 [==============================] - 122s 1s/step - loss: 1.7055 - accuracy: 0.4164 - val_loss: 1.7018 - val_accuracy: 0.4187\n",
      "Epoch 54/150\n",
      "\n",
      "Epoch 00054: LearningRateScheduler reducing learning rate to 2.5e-05.\n",
      "100/100 [==============================] - 122s 1s/step - loss: 1.6961 - accuracy: 0.4321 - val_loss: 1.7220 - val_accuracy: 0.4156\n",
      "Epoch 55/150\n",
      "\n",
      "Epoch 00055: LearningRateScheduler reducing learning rate to 2.5e-05.\n",
      "100/100 [==============================] - 122s 1s/step - loss: 1.6897 - accuracy: 0.4200 - val_loss: 1.7038 - val_accuracy: 0.4172\n",
      "Epoch 56/150\n",
      "\n",
      "Epoch 00056: LearningRateScheduler reducing learning rate to 2.5e-05.\n",
      "100/100 [==============================] - 123s 1s/step - loss: 1.6770 - accuracy: 0.4490 - val_loss: 1.7028 - val_accuracy: 0.4219\n",
      "Epoch 57/150\n",
      "\n",
      "Epoch 00057: LearningRateScheduler reducing learning rate to 2.5e-05.\n",
      "100/100 [==============================] - 122s 1s/step - loss: 1.7138 - accuracy: 0.4277 - val_loss: 1.7667 - val_accuracy: 0.4141\n",
      "Epoch 58/150\n",
      "\n",
      "Epoch 00058: LearningRateScheduler reducing learning rate to 2.5e-05.\n",
      "100/100 [==============================] - 123s 1s/step - loss: 1.7414 - accuracy: 0.4176 - val_loss: 1.7000 - val_accuracy: 0.4141\n",
      "Epoch 59/150\n",
      "\n",
      "Epoch 00059: LearningRateScheduler reducing learning rate to 2.5e-05.\n",
      "100/100 [==============================] - 123s 1s/step - loss: 1.6864 - accuracy: 0.4149 - val_loss: 1.7000 - val_accuracy: 0.4281\n",
      "Epoch 60/150\n",
      "\n",
      "Epoch 00060: LearningRateScheduler reducing learning rate to 2.5e-05.\n",
      "100/100 [==============================] - 123s 1s/step - loss: 1.6577 - accuracy: 0.4399 - val_loss: 1.6552 - val_accuracy: 0.4313\n",
      "Epoch 61/150\n",
      "\n",
      "Epoch 00061: LearningRateScheduler reducing learning rate to 2.5e-05.\n",
      "100/100 [==============================] - 123s 1s/step - loss: 1.6934 - accuracy: 0.4179 - val_loss: 1.7218 - val_accuracy: 0.3859\n",
      "Epoch 62/150\n",
      "\n",
      "Epoch 00062: LearningRateScheduler reducing learning rate to 2.5e-05.\n",
      "100/100 [==============================] - 125s 1s/step - loss: 1.6794 - accuracy: 0.4363 - val_loss: 1.6981 - val_accuracy: 0.4578\n",
      "INFO:tensorflow:Assets written to: saved-model\\vgg-16-adam\\assets\n",
      "Epoch 63/150\n",
      "\n",
      "Epoch 00063: LearningRateScheduler reducing learning rate to 2.5e-05.\n",
      "100/100 [==============================] - 122s 1s/step - loss: 1.7104 - accuracy: 0.4302 - val_loss: 1.6861 - val_accuracy: 0.4359\n",
      "Epoch 64/150\n",
      "\n",
      "Epoch 00064: LearningRateScheduler reducing learning rate to 2.5e-05.\n",
      "100/100 [==============================] - 122s 1s/step - loss: 1.6820 - accuracy: 0.4225 - val_loss: 1.6994 - val_accuracy: 0.4172\n",
      "Epoch 65/150\n",
      "\n",
      "Epoch 00065: LearningRateScheduler reducing learning rate to 2.5e-05.\n",
      "100/100 [==============================] - 121s 1s/step - loss: 1.7057 - accuracy: 0.4259 - val_loss: 1.6533 - val_accuracy: 0.4281\n",
      "Epoch 66/150\n",
      "\n",
      "Epoch 00066: LearningRateScheduler reducing learning rate to 2.5e-05.\n",
      "100/100 [==============================] - 122s 1s/step - loss: 1.5918 - accuracy: 0.4763 - val_loss: 1.6811 - val_accuracy: 0.4484\n",
      "Epoch 67/150\n",
      "\n",
      "Epoch 00067: LearningRateScheduler reducing learning rate to 2.5e-05.\n",
      "100/100 [==============================] - 122s 1s/step - loss: 1.6478 - accuracy: 0.4435 - val_loss: 1.6608 - val_accuracy: 0.4516\n",
      "Epoch 68/150\n",
      "\n",
      "Epoch 00068: LearningRateScheduler reducing learning rate to 2.5e-05.\n",
      "100/100 [==============================] - 121s 1s/step - loss: 1.6281 - accuracy: 0.4466 - val_loss: 1.6474 - val_accuracy: 0.4578\n",
      "Epoch 69/150\n",
      "\n",
      "Epoch 00069: LearningRateScheduler reducing learning rate to 2.5e-05.\n",
      "100/100 [==============================] - 121s 1s/step - loss: 1.6562 - accuracy: 0.4515 - val_loss: 1.6977 - val_accuracy: 0.4344\n",
      "Epoch 70/150\n",
      "\n",
      "Epoch 00070: LearningRateScheduler reducing learning rate to 2.5e-05.\n",
      "100/100 [==============================] - 121s 1s/step - loss: 1.6526 - accuracy: 0.4392 - val_loss: 1.6711 - val_accuracy: 0.4484\n",
      "Epoch 71/150\n",
      "\n",
      "Epoch 00071: LearningRateScheduler reducing learning rate to 2.5e-05.\n",
      "100/100 [==============================] - 122s 1s/step - loss: 1.6856 - accuracy: 0.4377 - val_loss: 1.6668 - val_accuracy: 0.4422\n",
      "Epoch 72/150\n",
      "\n",
      "Epoch 00072: LearningRateScheduler reducing learning rate to 2.5e-05.\n",
      "100/100 [==============================] - 122s 1s/step - loss: 1.6778 - accuracy: 0.4331 - val_loss: 1.6401 - val_accuracy: 0.4609\n",
      "INFO:tensorflow:Assets written to: saved-model\\vgg-16-adam\\assets\n",
      "Epoch 73/150\n",
      "\n",
      "Epoch 00073: LearningRateScheduler reducing learning rate to 2.5e-05.\n",
      "100/100 [==============================] - 122s 1s/step - loss: 1.6452 - accuracy: 0.4494 - val_loss: 1.7528 - val_accuracy: 0.4125\n",
      "Epoch 74/150\n",
      "\n",
      "Epoch 00074: LearningRateScheduler reducing learning rate to 2.5e-05.\n",
      "100/100 [==============================] - 122s 1s/step - loss: 1.6608 - accuracy: 0.4480 - val_loss: 1.5900 - val_accuracy: 0.4500\n",
      "Epoch 75/150\n",
      "\n",
      "Epoch 00075: LearningRateScheduler reducing learning rate to 2.5e-05.\n",
      "100/100 [==============================] - 122s 1s/step - loss: 1.6378 - accuracy: 0.4507 - val_loss: 1.6494 - val_accuracy: 0.4453\n",
      "Epoch 76/150\n",
      "\n",
      "Epoch 00076: LearningRateScheduler reducing learning rate to 1.25e-05.\n",
      "100/100 [==============================] - 121s 1s/step - loss: 1.6031 - accuracy: 0.4614 - val_loss: 1.6561 - val_accuracy: 0.4344\n",
      "Epoch 77/150\n",
      "\n",
      "Epoch 00077: LearningRateScheduler reducing learning rate to 1.25e-05.\n",
      "100/100 [==============================] - 122s 1s/step - loss: 1.6150 - accuracy: 0.4612 - val_loss: 1.6541 - val_accuracy: 0.4578\n",
      "Epoch 78/150\n",
      "\n",
      "Epoch 00078: LearningRateScheduler reducing learning rate to 1.25e-05.\n",
      "100/100 [==============================] - 121s 1s/step - loss: 1.6466 - accuracy: 0.4581 - val_loss: 1.6074 - val_accuracy: 0.4578\n",
      "Epoch 79/150\n",
      "\n",
      "Epoch 00079: LearningRateScheduler reducing learning rate to 1.25e-05.\n",
      "100/100 [==============================] - 121s 1s/step - loss: 1.6571 - accuracy: 0.4499 - val_loss: 1.6022 - val_accuracy: 0.4469\n",
      "Epoch 80/150\n",
      "\n",
      "Epoch 00080: LearningRateScheduler reducing learning rate to 1.25e-05.\n",
      "100/100 [==============================] - 121s 1s/step - loss: 1.6532 - accuracy: 0.4564 - val_loss: 1.5698 - val_accuracy: 0.4844\n",
      "INFO:tensorflow:Assets written to: saved-model\\vgg-16-adam\\assets\n",
      "Epoch 81/150\n",
      "\n",
      "Epoch 00081: LearningRateScheduler reducing learning rate to 1.25e-05.\n",
      "100/100 [==============================] - 121s 1s/step - loss: 1.6066 - accuracy: 0.4571 - val_loss: 1.6542 - val_accuracy: 0.4547\n",
      "Epoch 82/150\n",
      "\n",
      "Epoch 00082: LearningRateScheduler reducing learning rate to 1.25e-05.\n",
      "100/100 [==============================] - 121s 1s/step - loss: 1.6181 - accuracy: 0.4558 - val_loss: 1.5820 - val_accuracy: 0.4750\n",
      "Epoch 83/150\n",
      "\n",
      "Epoch 00083: LearningRateScheduler reducing learning rate to 1.25e-05.\n",
      "100/100 [==============================] - 121s 1s/step - loss: 1.5766 - accuracy: 0.4820 - val_loss: 1.6538 - val_accuracy: 0.4391\n",
      "Epoch 84/150\n",
      "\n",
      "Epoch 00084: LearningRateScheduler reducing learning rate to 1.25e-05.\n",
      "100/100 [==============================] - 121s 1s/step - loss: 1.6151 - accuracy: 0.4660 - val_loss: 1.6271 - val_accuracy: 0.4641\n",
      "Epoch 85/150\n",
      "\n",
      "Epoch 00085: LearningRateScheduler reducing learning rate to 1.25e-05.\n",
      "100/100 [==============================] - 121s 1s/step - loss: 1.6474 - accuracy: 0.4514 - val_loss: 1.6467 - val_accuracy: 0.4625\n",
      "Epoch 86/150\n",
      "\n",
      "Epoch 00086: LearningRateScheduler reducing learning rate to 1.25e-05.\n",
      "100/100 [==============================] - 121s 1s/step - loss: 1.6239 - accuracy: 0.4622 - val_loss: 1.6951 - val_accuracy: 0.4266\n",
      "Epoch 87/150\n",
      "\n",
      "Epoch 00087: LearningRateScheduler reducing learning rate to 1.25e-05.\n",
      "100/100 [==============================] - 121s 1s/step - loss: 1.6187 - accuracy: 0.4618 - val_loss: 1.6505 - val_accuracy: 0.4156\n",
      "Epoch 88/150\n",
      "\n",
      "Epoch 00088: LearningRateScheduler reducing learning rate to 1.25e-05.\n",
      "100/100 [==============================] - 121s 1s/step - loss: 1.6148 - accuracy: 0.4385 - val_loss: 1.6222 - val_accuracy: 0.4563\n",
      "Epoch 89/150\n",
      "\n",
      "Epoch 00089: LearningRateScheduler reducing learning rate to 1.25e-05.\n",
      "100/100 [==============================] - 121s 1s/step - loss: 1.5929 - accuracy: 0.4659 - val_loss: 1.5272 - val_accuracy: 0.4859\n",
      "INFO:tensorflow:Assets written to: saved-model\\vgg-16-adam\\assets\n",
      "Epoch 90/150\n",
      "\n",
      "Epoch 00090: LearningRateScheduler reducing learning rate to 1.25e-05.\n",
      "100/100 [==============================] - 121s 1s/step - loss: 1.6281 - accuracy: 0.4577 - val_loss: 1.5927 - val_accuracy: 0.4844\n",
      "Epoch 91/150\n",
      "\n",
      "Epoch 00091: LearningRateScheduler reducing learning rate to 1.25e-05.\n",
      "100/100 [==============================] - 121s 1s/step - loss: 1.5814 - accuracy: 0.4697 - val_loss: 1.5807 - val_accuracy: 0.4812\n",
      "Epoch 92/150\n",
      "\n",
      "Epoch 00092: LearningRateScheduler reducing learning rate to 1.25e-05.\n",
      "100/100 [==============================] - 121s 1s/step - loss: 1.5605 - accuracy: 0.4739 - val_loss: 1.5094 - val_accuracy: 0.4781\n",
      "Epoch 93/150\n",
      "\n",
      "Epoch 00093: LearningRateScheduler reducing learning rate to 1.25e-05.\n",
      "100/100 [==============================] - 121s 1s/step - loss: 1.6297 - accuracy: 0.4652 - val_loss: 1.6799 - val_accuracy: 0.4500\n",
      "Epoch 94/150\n",
      "\n",
      "Epoch 00094: LearningRateScheduler reducing learning rate to 1.25e-05.\n",
      "100/100 [==============================] - 121s 1s/step - loss: 1.5316 - accuracy: 0.4867 - val_loss: 1.6260 - val_accuracy: 0.4234\n",
      "Epoch 95/150\n",
      "\n",
      "Epoch 00095: LearningRateScheduler reducing learning rate to 1.25e-05.\n",
      "100/100 [==============================] - 121s 1s/step - loss: 1.5914 - accuracy: 0.4682 - val_loss: 1.6129 - val_accuracy: 0.4750\n",
      "Epoch 96/150\n",
      "\n",
      "Epoch 00096: LearningRateScheduler reducing learning rate to 1.25e-05.\n",
      "100/100 [==============================] - 121s 1s/step - loss: 1.5947 - accuracy: 0.4708 - val_loss: 1.5758 - val_accuracy: 0.4703\n",
      "Epoch 97/150\n",
      "\n",
      "Epoch 00097: LearningRateScheduler reducing learning rate to 1.25e-05.\n",
      "100/100 [==============================] - 121s 1s/step - loss: 1.5759 - accuracy: 0.4791 - val_loss: 1.5813 - val_accuracy: 0.4844\n",
      "Epoch 98/150\n",
      "\n",
      "Epoch 00098: LearningRateScheduler reducing learning rate to 1.25e-05.\n",
      "100/100 [==============================] - 121s 1s/step - loss: 1.6027 - accuracy: 0.4513 - val_loss: 1.6224 - val_accuracy: 0.4563\n",
      "Epoch 99/150\n",
      "\n",
      "Epoch 00099: LearningRateScheduler reducing learning rate to 1.25e-05.\n",
      "100/100 [==============================] - 121s 1s/step - loss: 1.5543 - accuracy: 0.4784 - val_loss: 1.5555 - val_accuracy: 0.4734\n",
      "Epoch 100/150\n",
      "\n",
      "Epoch 00100: LearningRateScheduler reducing learning rate to 1.25e-05.\n",
      "100/100 [==============================] - 120s 1s/step - loss: 1.5593 - accuracy: 0.4620 - val_loss: 1.6017 - val_accuracy: 0.4750\n",
      "Epoch 101/150\n",
      "\n",
      "Epoch 00101: LearningRateScheduler reducing learning rate to 6.25e-06.\n",
      "100/100 [==============================] - 121s 1s/step - loss: 1.5384 - accuracy: 0.4967 - val_loss: 1.5915 - val_accuracy: 0.4656\n",
      "Epoch 102/150\n",
      "\n",
      "Epoch 00102: LearningRateScheduler reducing learning rate to 6.25e-06.\n",
      "100/100 [==============================] - 121s 1s/step - loss: 1.5785 - accuracy: 0.4733 - val_loss: 1.6152 - val_accuracy: 0.4563\n",
      "Epoch 103/150\n",
      "\n",
      "Epoch 00103: LearningRateScheduler reducing learning rate to 6.25e-06.\n",
      "100/100 [==============================] - 121s 1s/step - loss: 1.5375 - accuracy: 0.4903 - val_loss: 1.6129 - val_accuracy: 0.4781\n",
      "Epoch 104/150\n",
      "\n",
      "Epoch 00104: LearningRateScheduler reducing learning rate to 6.25e-06.\n",
      "100/100 [==============================] - 121s 1s/step - loss: 1.5566 - accuracy: 0.4718 - val_loss: 1.5459 - val_accuracy: 0.4563\n",
      "Epoch 105/150\n",
      "\n",
      "Epoch 00105: LearningRateScheduler reducing learning rate to 6.25e-06.\n",
      "100/100 [==============================] - 121s 1s/step - loss: 1.5874 - accuracy: 0.4755 - val_loss: 1.6194 - val_accuracy: 0.4484\n",
      "Epoch 106/150\n",
      "\n",
      "Epoch 00106: LearningRateScheduler reducing learning rate to 6.25e-06.\n",
      "100/100 [==============================] - 121s 1s/step - loss: 1.5314 - accuracy: 0.4870 - val_loss: 1.5591 - val_accuracy: 0.4563\n",
      "Epoch 107/150\n",
      "\n",
      "Epoch 00107: LearningRateScheduler reducing learning rate to 6.25e-06.\n",
      "100/100 [==============================] - 121s 1s/step - loss: 1.5711 - accuracy: 0.4683 - val_loss: 1.6454 - val_accuracy: 0.4203\n",
      "Epoch 108/150\n",
      "\n",
      "Epoch 00108: LearningRateScheduler reducing learning rate to 6.25e-06.\n",
      "100/100 [==============================] - 121s 1s/step - loss: 1.5921 - accuracy: 0.4667 - val_loss: 1.5529 - val_accuracy: 0.4797\n",
      "Epoch 109/150\n",
      "\n",
      "Epoch 00109: LearningRateScheduler reducing learning rate to 6.25e-06.\n",
      "100/100 [==============================] - 121s 1s/step - loss: 1.5507 - accuracy: 0.4798 - val_loss: 1.5732 - val_accuracy: 0.4797\n",
      "Restoring model weights from the end of the best epoch.\n",
      "Epoch 00109: early stopping\n"
     ]
    }
   ],
   "source": [
    "result = vgg16_model.fit_generator(\n",
    "    train_generator,\n",
    "    validation_data=valid_generator,\n",
    "    epochs=150,\n",
    "    steps_per_epoch=100,\n",
    "    validation_steps=20,\n",
    "    callbacks=[lr,es,cp]\n",
    ")"
   ]
  },
  {
   "cell_type": "markdown",
   "id": "documented-rental",
   "metadata": {},
   "source": [
    "## Loss and accuracy visualizations"
   ]
  },
  {
   "cell_type": "code",
   "execution_count": 17,
   "id": "sacred-worry",
   "metadata": {},
   "outputs": [
    {
     "data": {
      "text/plain": [
       "<matplotlib.legend.Legend at 0x1aa89563cd0>"
      ]
     },
     "execution_count": 17,
     "metadata": {},
     "output_type": "execute_result"
    },
    {
     "data": {
      "image/png": "[encoded data removed]",
      "text/plain": [
       "<Figure size 432x288 with 1 Axes>"
      ]
     },
     "metadata": {
      "needs_background": "light"
     },
     "output_type": "display_data"
    }
   ],
   "source": [
    "plt.plot(result.history['loss'], label='Training Loss',)\n",
    "plt.plot(result.history['val_loss'], label='Validation Loss')\n",
    "plt.xlabel('Epoch')\n",
    "plt.title('Vgg16 based model')\n",
    "plt.legend()"
   ]
  },
  {
   "cell_type": "markdown",
   "id": "electronic-ebony",
   "metadata": {},
   "source": [
    "### Accuracy"
   ]
  },
  {
   "cell_type": "code",
   "execution_count": 18,
   "id": "acquired-vertical",
   "metadata": {},
   "outputs": [
    {
     "data": {
      "text/plain": [
       "<matplotlib.legend.Legend at 0x1a493fede50>"
      ]
     },
     "execution_count": 18,
     "metadata": {},
     "output_type": "execute_result"
    },
    {
     "data": {
      "image/png": "[encoded data removed]",
      "text/plain": [
       "<Figure size 432x288 with 1 Axes>"
      ]
     },
     "metadata": {
      "needs_background": "light"
     },
     "output_type": "display_data"
    }
   ],
   "source": [
    "plt.plot(result.history['accuracy'], label='Accuracy')\n",
    "plt.plot(result.history['val_accuracy'], label='Validation Accuracy')\n",
    "plt.xlabel('Epoch')\n",
    "plt.title('Vgg16 based model')\n",
    "plt.legend()"
   ]
  },
  {
   "cell_type": "markdown",
   "id": "neural-reflection",
   "metadata": {},
   "source": [
    "## Test set validation"
   ]
  },
  {
   "cell_type": "code",
   "execution_count": 19,
   "id": "champion-hunger",
   "metadata": {},
   "outputs": [
    {
     "data": {
      "text/plain": [
       "['Centrosome',\n",
       " 'Cytosol',\n",
       " 'Endoplasmic reticulum',\n",
       " 'Golgi apparatus',\n",
       " 'Intermediate filaments',\n",
       " 'Mitochondria',\n",
       " 'Nuclear bodies',\n",
       " 'Nuclear speckles',\n",
       " 'Nucleoli',\n",
       " 'Nucleoli fibrillar center',\n",
       " 'Nucleoplasm',\n",
       " 'Plasma membrane']"
      ]
     },
     "execution_count": 19,
     "metadata": {},
     "output_type": "execute_result"
    }
   ],
   "source": [
    "labels_from_generator = (test_gen.class_indices)\n",
    "labels_from_generator = [k for k,v in labels_from_generator.items()]\n",
    "test_gen.reset()\n",
    "labels_from_generator"
   ]
  },
  {
   "cell_type": "code",
   "execution_count": 20,
   "id": "decreased-depression",
   "metadata": {},
   "outputs": [],
   "source": [
    "def get_confusion_matrix(model, N):\n",
    "    # we need to see the data in the same order\n",
    "    # for both predictions and targets\n",
    "    print(\"Generating confusion matrix. Total images to predict\", N)\n",
    "    predictions = []\n",
    "    targets = []\n",
    "    i = 0\n",
    "    for x, y in test_gen:\n",
    "        i += 1\n",
    "        if i % 100 == 0:\n",
    "            print(f'Finished predicting {i} batches')\n",
    "        p = model.predict(x)\n",
    "        p = np.argmax(p, axis=1)\n",
    "        y = np.argmax(y, axis=1)\n",
    "        predictions = np.concatenate((predictions, p))\n",
    "        targets = np.concatenate((targets, y))\n",
    "        if len(targets) >= N:\n",
    "            break\n",
    "\n",
    "    cm = confusion_matrix(targets, predictions)\n",
    "    return cm"
   ]
  },
  {
   "cell_type": "code",
   "execution_count": 21,
   "id": "rocky-mobile",
   "metadata": {},
   "outputs": [
    {
     "name": "stdout",
     "output_type": "stream",
     "text": [
      "Generating confusion matrix. Total images to predict 9482\n",
      "Finished predicting 100 batches\n",
      "Finished predicting 200 batches\n",
      "Wall time: 1min 45s\n"
     ]
    }
   ],
   "source": [
    "%%time\n",
    "test_gen.reset()\n",
    "result = get_confusion_matrix( vgg16_model,9482)"
   ]
  },
  {
   "cell_type": "code",
   "execution_count": 22,
   "id": "temporal-cornell",
   "metadata": {},
   "outputs": [
    {
     "name": "stdout",
     "output_type": "stream",
     "text": [
      "[[ 119   87    0   23    3   21   69    0   10   23  163   52]\n",
      " [  34  588   16    9    5   38   18    0    3    1  149  188]\n",
      " [   4  273   51    2   14   48    6    0    1    0   70   31]\n",
      " [  36   62    0  196    0  127   29   15   17   62  137   57]\n",
      " [   7   85   19    8   95  102    4    3    5    5   58   78]\n",
      " [  18  181   31   34   21  631    7    6    4    6  183   75]\n",
      " [  51   44    0   17    0   14  184   13    3   22  235   16]\n",
      " [  15   24    1   25    1   23   19  315    8    8  308    8]\n",
      " [  23   27    0   41    0    5   16    7  213   28  101   17]\n",
      " [  25   49    0   43    1   10   56   10   14  163   72   13]\n",
      " [  25  121    1   10    0   31   33   12    4   10 1397   28]\n",
      " [  45  265    2   10    5   36   14    1    3    3   96  519]]\n"
     ]
    }
   ],
   "source": [
    "# print confusion matrix numbers\n",
    "print(result)"
   ]
  },
  {
   "cell_type": "code",
   "execution_count": 23,
   "id": "dangerous-talent",
   "metadata": {},
   "outputs": [],
   "source": [
    "# Normalise to show percentages\n",
    "cmn = result.astype('float') / result.sum(axis=1)[:, np.newaxis]"
   ]
  },
  {
   "cell_type": "code",
   "execution_count": 24,
   "id": "compatible-wheel",
   "metadata": {},
   "outputs": [
    {
     "data": {
      "image/png": "[encoded data removed]",
      "text/plain": [
       "<Figure size 864x720 with 2 Axes>"
      ]
     },
     "metadata": {
      "needs_background": "light"
     },
     "output_type": "display_data"
    }
   ],
   "source": [
    "fig, ax = plt.subplots(figsize=(12,10))\n",
    "sns.heatmap(cmn, annot=True, fmt='.2f', xticklabels=labels_from_generator, yticklabels=labels_from_generator)\n",
    "plt.ylabel('Actual')\n",
    "plt.xlabel('Predicted')\n",
    "plt.show(block=False)"
   ]
  }
 ],
 "metadata": {
  "kernelspec": {
   "display_name": "Python 3",
   "language": "python",
   "name": "python3"
  },
  "language_info": {
   "codemirror_mode": {
    "name": "ipython",
    "version": 3
   },
   "file_extension": ".py",
   "mimetype": "text/x-python",
   "name": "python",
   "nbconvert_exporter": "python",
   "pygments_lexer": "ipython3",
   "version": "3.8.5"
  }
 },
 "nbformat": 4,
 "nbformat_minor": 5
}
